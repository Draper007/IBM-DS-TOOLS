{
 "cells": [
  {
   "cell_type": "markdown",
   "id": "fa4cec37",
   "metadata": {},
   "source": [
    "# Data Science Tools and Ecosystem\n"
   ]
  },
  {
   "cell_type": "markdown",
   "id": "cb68be55",
   "metadata": {},
   "source": [
    "In this notebook, Data Science Tools and Ecosystem are summarized.\n"
   ]
  },
  {
   "cell_type": "markdown",
   "id": "764cc12b",
   "metadata": {},
   "source": [
    "**Objectives:**\n",
    "- List common languages used in Data Science\n",
    "- List popular tools and libraraies used in Data Science\n",
    "- To test Jupyter Notebooks arithmetic operations "
   ]
  },
  {
   "cell_type": "markdown",
   "id": "1d6ab289",
   "metadata": {},
   "source": [
    "Some of the popular languages that Data Scientists use are:\n",
    "1. Python\n",
    "2. SQL (Structured Query Language)\n",
    "3. R\n",
    "4. Julia\n",
    "5. JavaScript\n",
    "6. Scala\n",
    "7. Java\n",
    "8. Go"
   ]
  },
  {
   "cell_type": "markdown",
   "id": "17cbf65a",
   "metadata": {},
   "source": [
    "Some of the commonly used libraries used by Data Scientists include:\n",
    "1. NumPy.\n",
    "2. Keras.\n",
    "3. Pandas.\n",
    "4. PyTorch.\n",
    "5. SciPy.\n",
    "6. Scikit-Learn.\n",
    "7. TensorFlow.\n",
    "8. Matplotlib."
   ]
  },
  {
   "cell_type": "markdown",
   "id": "1976b4b1",
   "metadata": {},
   "source": [
    "\n",
    "| Data Science Tools |\n",
    "|:------------------:|\n",
    "|        Keras       |\n",
    "|        Scipy       |\n",
    "|     Tenserflow     |"
   ]
  },
  {
   "cell_type": "markdown",
   "id": "c340d410",
   "metadata": {},
   "source": [
    "### Below are a few examples of evaluating arithmetic expressions in Python"
   ]
  },
  {
   "cell_type": "code",
   "execution_count": 1,
   "id": "b6923d75",
   "metadata": {},
   "outputs": [
    {
     "data": {
      "text/plain": [
       "17"
      ]
     },
     "execution_count": 1,
     "metadata": {},
     "output_type": "execute_result"
    }
   ],
   "source": [
    "''' This a simple arithmetic expression to mutiply then add integers '''\n",
    "(3*4)+5"
   ]
  },
  {
   "cell_type": "code",
   "execution_count": 2,
   "id": "690f781c",
   "metadata": {},
   "outputs": [
    {
     "data": {
      "text/plain": [
       "3.3333333333333335"
      ]
     },
     "execution_count": 2,
     "metadata": {},
     "output_type": "execute_result"
    }
   ],
   "source": [
    "'''This will convert 200 minutes to hours by diving by 60'''\n",
    "200/60"
   ]
  },
  {
   "cell_type": "markdown",
   "id": "66dc4819",
   "metadata": {},
   "source": [
    "## Author\n",
    "Mohamed Akhtar "
   ]
  }
 ],
 "metadata": {
  "kernelspec": {
   "display_name": "Python 3",
   "language": "python",
   "name": "python3"
  },
  "language_info": {
   "codemirror_mode": {
    "name": "ipython",
    "version": 3
   },
   "file_extension": ".py",
   "mimetype": "text/x-python",
   "name": "python",
   "nbconvert_exporter": "python",
   "pygments_lexer": "ipython3",
   "version": "3.8.8"
  }
 },
 "nbformat": 4,
 "nbformat_minor": 5
}
